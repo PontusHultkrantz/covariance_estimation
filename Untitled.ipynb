{
 "cells": [
  {
   "cell_type": "code",
   "execution_count": 24,
   "metadata": {},
   "outputs": [
    {
     "name": "stdout",
     "output_type": "stream",
     "text": [
      "(0.993, 0.976)\n"
     ]
    }
   ],
   "source": [
    "import numpy as np\n",
    "\n",
    "import scipy.stats as stats\n",
    "\n",
    "\n",
    "p = 2\n",
    "n = 300\n",
    "\n",
    "Xdist = (1.1, 0.5)\n",
    "Ydist = (1, 0.5)\n",
    "rho = 0.1\n",
    "\n",
    "\n",
    "mmu = np.array([Xdist[0], Ydist[0]])\n",
    "vol = np.array([Xdist[1], Ydist[1]])\n",
    "mcorr = np.array([[1, rho],[rho, 1]])\n",
    "mcov = np.diag(vol) @ mcorr @ np.diag(vol)\n",
    "\n",
    "dist = stats.multivariate_normal(mean=mmu, cov=mcov)\n",
    "\n",
    "\n",
    "nsim = 1000\n",
    "\n",
    "data = np.empty((nsim, 2))\n",
    "for i in range(nsim):\n",
    "    rnd = dist.rvs(n)\n",
    "    data[i, 0] = np.mean(rnd[:,0] - rnd[:,1]) > 0\n",
    "    data[i, 1] = np.mean(rnd[:,0] > rnd[:,1]) - 0.5\n",
    "\n",
    "p = np.mean(data[:, 0] > 0), np.mean(data[:, 1] > 0)\n",
    "print(p)\n",
    "    \n"
   ]
  }
 ],
 "metadata": {
  "kernelspec": {
   "display_name": "Python 3",
   "language": "python",
   "name": "python3"
  },
  "language_info": {
   "codemirror_mode": {
    "name": "ipython",
    "version": 3
   },
   "file_extension": ".py",
   "mimetype": "text/x-python",
   "name": "python",
   "nbconvert_exporter": "python",
   "pygments_lexer": "ipython3",
   "version": "3.7.5"
  }
 },
 "nbformat": 4,
 "nbformat_minor": 2
}

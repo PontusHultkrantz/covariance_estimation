{
 "cells": [
  {
   "cell_type": "markdown",
   "metadata": {},
   "source": [
    "# Minimum Variance Portfolio, sample cov using MLE linear shrinkage"
   ]
  },
  {
   "cell_type": "markdown",
   "metadata": {},
   "source": [
    "Shrinkage algorithm implemented from \n",
    "    Ledoit, O., and M. Wolf, 2003, “Honey, I Shrunk the Sample Covariance Matrix,” Working\n",
    "    Paper, Department of Economics and Business, Universitat Pompeu Fabra.\n",
    "Access: https://ssrn.com/abstract=433840\n",
    "\n",
    "The performance of the shrinkage estimator is measured in MSE terms of the covariance matrix estimate, using the matrix Frobenius norm\n",
    "\n",
    "$ ||\\hat{\\Sigma}-\\Sigma||_F = \\sqrt{\\sum_{i,j} (\\hat{\\sigma}^2_{ij} - \\sigma^2_{ij})^2 }$.\n",
    " That is, the squared residual of the element-wise covariances.\n",
    " \n",
    "While the shrinkage estimator is a biased estimator, it can archive a lower MSE than the unbiased sample covariance by having a lower variance."
   ]
  },
  {
   "cell_type": "markdown",
   "metadata": {},
   "source": [
    "## Define benchmark returns statistics"
   ]
  },
  {
   "cell_type": "code",
   "execution_count": null,
   "metadata": {},
   "outputs": [],
   "source": []
  },
  {
   "cell_type": "code",
   "execution_count": null,
   "metadata": {},
   "outputs": [],
   "source": []
  },
  {
   "cell_type": "code",
   "execution_count": 8,
   "metadata": {},
   "outputs": [
    {
     "name": "stdout",
     "output_type": "stream",
     "text": [
      "['sample', 'honey', 'MP', 'SKL_LW', 'RIE']\n",
      "[0.60327326 0.6372047  0.61130448 0.67063428 0.59532473]\n"
     ]
    },
    {
     "data": {
      "image/png": "[encoded data removed]",
      "text/plain": [
       "<Figure size 1080x360 with 1 Axes>"
      ]
     },
     "metadata": {
      "needs_background": "light"
     },
     "output_type": "display_data"
    }
   ],
   "source": [
    "#%load_ext autoreload\n",
    "#%autoreload 2\n",
    "import numpy as np\n",
    "import scipy.stats as stats\n",
    "import pandas as pd\n",
    "from operator import add\n",
    "from matplotlib import pyplot as plt\n",
    "import honey_shrink as hs\n",
    "import marchenko_pastur as mp\n",
    "from sklearn.covariance import LedoitWolf\n",
    "\n",
    "\n",
    "from src.estimation.cov_cleaning import mp_denoise, RIE\n",
    "\n",
    "import example_data as data\n",
    "\n",
    "\n",
    "\n",
    "def mvh(idx_r, idx_h, pos, cov):\n",
    "    idx_sub = np.concatenate([idx_r, idx_h])\n",
    "    hrhh = cov[idx_h][:,idx_sub]\n",
    "    hh = cov[idx_h][:, idx_h]\n",
    "    hdg_h = -np.linalg.inv(hh) @ hrhh @ pos[idx_sub]\n",
    "    hdg = np.concatenate((np.zeros(len(idx_r)), hdg_h))\n",
    "    psi = np.zeros(cov.shape[0])\n",
    "    psi[idx_sub] = hdg\n",
    "    return psi\n",
    "\n",
    "#def var(book, cov):\n",
    "#    return book.pos @ cov.loc[book.pos.index, book.pos.index] @ book.pos\n",
    "\n",
    "def var(w, cov):\n",
    "    return w @ cov @ w\n",
    "    \n",
    "# =========================\n",
    "# ======= Load Data =======\n",
    "# =========================\n",
    "lvl_df, book = data.get_example_data()\n",
    "r = lvl_df.pct_change().iloc[1::]\n",
    "#r = np.log(lvl_df.shift(1)) - np.log(lvl_df)\n",
    "cov = r.cov() #ddof=N-1\n",
    "\n",
    "#hedges = ['SX5E', 'OMX']\n",
    "hedges = ['SWEDA SS', 'AMEAS FH', 'CAST SS']\n",
    "subverse = set(book.pos.index.values).union(set(hedges))\n",
    "subcov = cov.loc[subverse, subverse]\n",
    "idx_r = np.array([subcov.index.get_loc(x) for x in book.pos.index])\n",
    "idx_h = np.array([subcov.index.get_loc(x) for x in hedges])\n",
    "pos = np.zeros(subcov.shape[0])\n",
    "pos[idx_r] = book.pos.values\n",
    "hdg = mvh(idx_r, idx_h, pos, subcov.values)\n",
    "var0 = var(pos, subcov)\n",
    "var1 = var(pos+hdg, subcov)\n",
    "rat0 = np.sqrt(var1/var0)\n",
    "\n",
    "dist = stats.multivariate_normal(cov=subcov)\n",
    "nsim = 1000\n",
    "nsamples = 40\n",
    "data = np.empty((nsim, 5))\n",
    "labels = ['sample', 'honey', 'MP', 'SKL_LW', 'RIE']\n",
    "for i in range(nsim):\n",
    "    X = dist.rvs(nsamples)\n",
    "    sample_cov = np.cov(X, rowvar=False, ddof=1)\n",
    "    \n",
    "    hdg_pos = mvh(idx_r, idx_h, pos, sample_cov)\n",
    "    var1 = (pos+hdg_pos) @ subcov @ (pos+hdg_pos)\n",
    "    data[i,0] = np.sqrt(var1/var0)\n",
    "    \n",
    "    cov_est1 = hs.honey_shrink(X)\n",
    "    hdg_pos = mvh(idx_r, idx_h, pos, cov_est1)\n",
    "    var1 = (pos+hdg_pos) @ subcov @ (pos+hdg_pos)\n",
    "    data[i,1] = np.sqrt(var1/var0)\n",
    "    \n",
    "    cov_est2 = mp_denoise(sample_cov, sample_cov.shape[0], nsamples)\n",
    "    hdg_pos = mvh(idx_r, idx_h, pos, cov_est2)\n",
    "    var1 = (pos+hdg_pos) @ subcov @ (pos+hdg_pos)\n",
    "    data[i,2] = np.sqrt(var1/var0)\n",
    "    \n",
    "    \n",
    "    cov_est3 =  LedoitWolf().fit(sample_cov).covariance_\n",
    "    hdg_pos = mvh(idx_r, idx_h, pos, cov_est3)\n",
    "    var1 = (pos+hdg_pos) @ subcov @ (pos+hdg_pos)\n",
    "    data[i,3] = np.sqrt(var1/var0)\n",
    "    \n",
    "    cov_est4 =  RIE(sample_cov, sample_cov.shape[0], nsamples, corrmode=False)\n",
    "    hdg_pos = mvh(idx_r, idx_h, pos, cov_est4)\n",
    "    var1 = (pos+hdg_pos) @ subcov @ (pos+hdg_pos)\n",
    "    data[i,4] = np.sqrt(var1/var0)        \n",
    "    \n",
    "    \n",
    "est = np.mean(data, axis=0)\n",
    "print(labels)\n",
    "print(est)\n",
    "#rank = np.argmin(est)\n",
    "plt.figure(figsize=(15,5))\n",
    "#plt.hist(data[:,0], density=True, bins='auto', color='g', alpha=0.2)\n",
    "#plt.hist(data[:,1], density=True, bins='auto', color='b', alpha=0.2)\n",
    "plt.axvline(rat0, color='r', linewidth=3, label='MVP_theory')\n",
    "plt.axvline(est[0], color='g', linewidth=3, label='MVP_sample')\n",
    "plt.axvline(est[1], color='b', linewidth=3, label='MVP_LW')\n",
    "plt.axvline(est[2], color='c', linewidth=3, label='MVP_MP')\n",
    "plt.axvline(est[3], color='m', linewidth=3, label='MVP_SKL_LW')\n",
    "plt.axvline(est[4], color='k', linewidth=3, label='MVP_RIE')\n",
    "lim = (int(rat0*10)/10, int(1+max(est)*10)/10)\n",
    "plt.xlim([lim[0], lim[1]])\n",
    "#plt.xticks(np.arange(lim[0], lim[1], 0.05))\n",
    "plt.legend(loc='best')\n",
    "plt.grid(True)\n",
    "plt.show()\n",
    "\n"
   ]
  },
  {
   "cell_type": "markdown",
   "metadata": {},
   "source": [
    "## Calculate measures based on benchmark return distribution"
   ]
  },
  {
   "cell_type": "code",
   "execution_count": null,
   "metadata": {},
   "outputs": [],
   "source": []
  },
  {
   "cell_type": "markdown",
   "metadata": {},
   "source": []
  },
  {
   "cell_type": "code",
   "execution_count": null,
   "metadata": {},
   "outputs": [],
   "source": []
  },
  {
   "cell_type": "markdown",
   "metadata": {},
   "source": []
  },
  {
   "cell_type": "code",
   "execution_count": null,
   "metadata": {
    "scrolled": false
   },
   "outputs": [],
   "source": []
  },
  {
   "cell_type": "markdown",
   "metadata": {},
   "source": []
  }
 ],
 "metadata": {
  "kernelspec": {
   "display_name": "Python 3.7.3 64-bit ('ProgramData': virtualenv)",
   "language": "python",
   "name": "python37364bitprogramdatavirtualenv59ae48332b0b4b33804568dd65329faa"
  },
  "language_info": {
   "codemirror_mode": {
    "name": "ipython",
    "version": 3
   },
   "file_extension": ".py",
   "mimetype": "text/x-python",
   "name": "python",
   "nbconvert_exporter": "python",
   "pygments_lexer": "ipython3",
   "version": "3.7.3"
  }
 },
 "nbformat": 4,
 "nbformat_minor": 2
}

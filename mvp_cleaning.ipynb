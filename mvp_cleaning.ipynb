{
 "cells": [
  {
   "cell_type": "markdown",
   "metadata": {},
   "source": [
    "# Minimum Variance Portfolio, sample cov using MLE linear shrinkage"
   ]
  },
  {
   "cell_type": "markdown",
   "metadata": {},
   "source": [
    "Shrinkage algorithm implemented from \n",
    "    Ledoit, O., and M. Wolf, 2003, “Honey, I Shrunk the Sample Covariance Matrix,” Working\n",
    "    Paper, Department of Economics and Business, Universitat Pompeu Fabra.\n",
    "Access: https://ssrn.com/abstract=433840\n",
    "\n",
    "The performance of the shrinkage estimator is measured in MSE terms of the covariance matrix estimate, using the matrix Frobenius norm\n",
    "\n",
    "$ ||\\hat{\\Sigma}-\\Sigma||_F = \\sqrt{\\sum_{i,j} (\\hat{\\sigma}^2_{ij} - \\sigma^2_{ij})^2 }$.\n",
    " That is, the squared residual of the element-wise covariances.\n",
    " \n",
    "While the shrinkage estimator is a biased estimator, it can archive a lower MSE than the unbiased sample covariance by having a lower variance."
   ]
  },
  {
   "cell_type": "markdown",
   "metadata": {},
   "source": [
    "## Define benchmark returns statistics"
   ]
  },
  {
   "cell_type": "code",
   "execution_count": null,
   "metadata": {},
   "outputs": [],
   "source": []
  },
  {
   "cell_type": "code",
   "execution_count": null,
   "metadata": {},
   "outputs": [],
   "source": []
  },
  {
   "cell_type": "code",
   "execution_count": 175,
   "metadata": {},
   "outputs": [
    {
     "name": "stdout",
     "output_type": "stream",
     "text": [
      "['sample', 'honey', 'MP', 'SKL_LW', 'RIE']\n",
      "[0.63028606 0.68693466 0.63282774 0.67471669 0.61145139]\n"
     ]
    },
    {
     "data": {
      "image/png": "[encoded data removed]",
      "text/plain": [
       "<Figure size 1080x360 with 1 Axes>"
      ]
     },
     "metadata": {
      "needs_background": "light"
     },
     "output_type": "display_data"
    }
   ],
   "source": [
    "#%load_ext autoreload\n",
    "#%autoreload 2\n",
    "import numpy as np\n",
    "import scipy.stats as stats\n",
    "import pandas as pd\n",
    "from operator import add\n",
    "from matplotlib import pyplot as plt\n",
    "import honey_shrink as hs\n",
    "import marchenko_pastur as mp\n",
    "from sklearn.covariance import LedoitWolf\n",
    "\n",
    "\n",
    "def cov2corr(cov):\n",
    "    vol = np.diag(cov)**0.5\n",
    "    corr = np.diag(1/vol) @ cov @ np.diag(1/vol)\n",
    "    return corr, vol\n",
    "\n",
    "def corr2cov(corr, vols):\n",
    "    volm = np.diag(vols)\n",
    "    return volm @ corr @ volm\n",
    "\n",
    "def mp_denoise(cov, p, n):\n",
    "    #vol = np.diag(cov)**0.5\n",
    "    #corr = np.diag(1/vol) @ cov @ np.diag(1/vol)\n",
    "    corr, vol = cov2corr(cov)\n",
    "    \n",
    "    dist = mp.marchenko_pastur(p, n)\n",
    "    u, s, vt = np.linalg.svd(corr)\n",
    "    noise_idx = s < dist.ubound()\n",
    "    s[noise_idx] = s[noise_idx].sum() / noise_idx.sum()\n",
    "    corr_denoised = u @ np.diag(s) @ vt\n",
    "    #cov_denoised = np.diag(vol) @ corr_denoised @ np.diag(vol)\n",
    "    cov_denoised = corr2cov(corr_denoised, vol)\n",
    "    return cov_denoised\n",
    "\n",
    "def RIE(cov, N, T, corrmode=True):\n",
    "    if corrmode:\n",
    "        corr, vol = cov2corr(cov)\n",
    "    else:\n",
    "        corr = cov\n",
    "    q = N / T\n",
    "    u, eigs, vt = np.linalg.svd(corr)\n",
    "    z = eigs - 1/N**0.5 * 1j\n",
    "    s = 1/N * sum(1/(z[k]-eigs[j]) for k in range(N) for j in range(N) if k!=j)\n",
    "    xi_rie = eigs / np.abs(1 - q + q*z*s)**2\n",
    "    lambda_N = eigs[-1]\n",
    "    sigma2 = lambda_N / (1-q**0.5)**2\n",
    "    lambda_plus = lambda_N * ((1+np.sqrt(q))/(1-np.sqrt(q)))**2\n",
    "    gmp = (z + sigma2*(q-1) - np.sqrt(z-lambda_N)*np.sqrt(z-lambda_plus)) / (2*q*z*sigma2)\n",
    "    Gamma = sigma2 * np.abs(1 - q + q*z*gmp)**2 / eigs\n",
    "    Gamma[Gamma <= 1] = 1.0\n",
    "    xi = xi_rie * Gamma\n",
    "    corr_denoised = u @ np.diag(xi) @ vt\n",
    "    \n",
    "    if corrmode:\n",
    "        cov_denoised = corr2cov(corr_denoised, vol)\n",
    "    else:\n",
    "        cov_denoised = corr_denoised\n",
    "    return cov_denoised\n",
    "\n",
    "#class HedgeEngine:\n",
    "    #def __init__(self, book, cov):\n",
    "        #self._book = book\n",
    "        #self._cov = cov\n",
    "\n",
    "class Book:\n",
    "    ''' Collection of positions'''\n",
    "    def __init__(self, name, pos=pd.Series()):\n",
    "        self._pos = pd.Series()\n",
    "        self.add_pos(pos)\n",
    "        \n",
    "    def add_pos(self, pos):\n",
    "        if isinstance(pos, dict):\n",
    "            pos = pd.Series(pos)\n",
    "        elif not isinstance(pos, pd.Series):\n",
    "            raise ValueError()    \n",
    "        self._pos = self._pos.combine(pos, add, fill_value=0.0)\n",
    "        \n",
    "    @property\n",
    "    def pos(self):\n",
    "        return self._pos\n",
    "    def __add__(self, other):\n",
    "        return Book('', self._pos.combine(other._pos, add, fill_value=0.0))\n",
    "\n",
    "def mvh(idx_r, idx_h, pos, cov):\n",
    "    idx_sub = np.concatenate([idx_r, idx_h])\n",
    "    hrhh = cov[idx_h][:,idx_sub]\n",
    "    hh = cov[idx_h][:, idx_h]\n",
    "    hdg_h = -np.linalg.inv(hh) @ hrhh @ pos[idx_sub]\n",
    "    hdg = np.concatenate((np.zeros(len(idx_r)), hdg_h))\n",
    "    psi = np.zeros(cov.shape[0])\n",
    "    psi[idx_sub] = hdg\n",
    "    return psi\n",
    "\n",
    "#def var(book, cov):\n",
    "#    return book.pos @ cov.loc[book.pos.index, book.pos.index] @ book.pos\n",
    "\n",
    "def var(w, cov):\n",
    "    return w @ cov @ w\n",
    "# =========================\n",
    "# ======= Load Data =======\n",
    "# =========================\n",
    "state = pd.read_csv('state.csv', sep='\\t', index_col=0).set_index('TICKER', drop=True)\n",
    "lvl_df = pd.read_csv('lvl.csv', sep='\\t', index_col=0)\n",
    "lvl_df.rename(columns=dict(zip(state['PRICE_PISIN'], state.index)), inplace=True)\n",
    "\n",
    "r = lvl_df.pct_change().iloc[1::]\n",
    "cov = r.cov() #ddof=N-1\n",
    "mask = (state['VAL_BASECCY'] != 0.0) & (state['PRODUCTID'] == 'STOCK')\n",
    "book = Book('P')\n",
    "book.add_pos(state[mask]['VAL_BASECCY'])\n",
    "\n",
    "\n",
    "#hedges = ['SX5E', 'OMX']\n",
    "hedges = ['SWEDA SS', 'AMEAS FH', 'CAST SS']\n",
    "subverse = set(book.pos.index.values).union(set(hedges))\n",
    "subcov = cov.loc[subverse, subverse]\n",
    "idx_r = np.array([subcov.index.get_loc(x) for x in book.pos.index])\n",
    "idx_h = np.array([subcov.index.get_loc(x) for x in hedges])\n",
    "pos = np.zeros(subcov.shape[0])\n",
    "pos[idx_r] = book.pos.values\n",
    "hdg = mvh(idx_r, idx_h, pos, subcov.values)\n",
    "var0 = var(pos, subcov)\n",
    "var1 = var(pos+hdg, subcov)\n",
    "rat0 = np.sqrt(var1/var0)\n",
    "\n",
    "dist = stats.multivariate_normal(cov=subcov)\n",
    "nsim = 1000\n",
    "nsamples = 20\n",
    "data = np.empty((nsim, 5))\n",
    "labels = ['sample', 'honey', 'MP', 'SKL_LW', 'RIE']\n",
    "for i in range(nsim):\n",
    "    X = dist.rvs(nsamples)\n",
    "    sample_cov = np.cov(X, rowvar=False, ddof=1)\n",
    "    \n",
    "    hdg_pos = mvh(idx_r, idx_h, pos, sample_cov)\n",
    "    var1 = (pos+hdg_pos) @ subcov @ (pos+hdg_pos)\n",
    "    data[i,0] = np.sqrt(var1/var0)\n",
    "    \n",
    "    cov_est1 = hs.honey_shrink(X)\n",
    "    hdg_pos = mvh(idx_r, idx_h, pos, cov_est1)\n",
    "    var1 = (pos+hdg_pos) @ subcov @ (pos+hdg_pos)\n",
    "    data[i,1] = np.sqrt(var1/var0)\n",
    "    \n",
    "    cov_est2 = mp_denoise(sample_cov, cov_est.shape[0], nsamples)\n",
    "    hdg_pos = mvh(idx_r, idx_h, pos, cov_est2)\n",
    "    var1 = (pos+hdg_pos) @ subcov @ (pos+hdg_pos)\n",
    "    data[i,2] = np.sqrt(var1/var0)\n",
    "    \n",
    "    \n",
    "    cov_est3 =  LedoitWolf().fit(sample_cov).covariance_\n",
    "    hdg_pos = mvh(idx_r, idx_h, pos, cov_est3)\n",
    "    var1 = (pos+hdg_pos) @ subcov @ (pos+hdg_pos)\n",
    "    data[i,3] = np.sqrt(var1/var0)\n",
    "    \n",
    "    cov_est4 =  RIE(sample_cov, sample_cov.shape[0], nsamples, corrmode=False)\n",
    "    hdg_pos = mvh(idx_r, idx_h, pos, cov_est4)\n",
    "    var1 = (pos+hdg_pos) @ subcov @ (pos+hdg_pos)\n",
    "    data[i,4] = np.sqrt(var1/var0)        \n",
    "    \n",
    "    \n",
    "est = np.mean(data, axis=0)\n",
    "print(labels)\n",
    "print(est)\n",
    "#rank = np.argmin(est)\n",
    "plt.figure(figsize=(15,5))\n",
    "#plt.hist(data[:,0], density=True, bins='auto', color='g', alpha=0.2)\n",
    "#plt.hist(data[:,1], density=True, bins='auto', color='b', alpha=0.2)\n",
    "plt.axvline(rat0, color='r', linewidth=3, label='MVP_theory')\n",
    "plt.axvline(est[0], color='g', linewidth=3, label='MVP_sample')\n",
    "plt.axvline(est[1], color='b', linewidth=3, label='MVP_LW')\n",
    "plt.axvline(est[2], color='c', linewidth=3, label='MVP_MP')\n",
    "plt.axvline(est[3], color='m', linewidth=3, label='MVP_SKL_LW')\n",
    "plt.axvline(est[4], color='k', linewidth=3, label='MVP_RIE')\n",
    "lim = (int(rat0*10)/10, int(1+max(est)*10)/10)\n",
    "plt.xlim([lim[0], lim[1]])\n",
    "#plt.xticks(np.arange(lim[0], lim[1], 0.05))\n",
    "plt.legend(loc='best')\n",
    "plt.grid(True)\n",
    "plt.show()\n",
    "\n"
   ]
  },
  {
   "cell_type": "markdown",
   "metadata": {},
   "source": [
    "## Calculate measures based on benchmark return distribution"
   ]
  },
  {
   "cell_type": "code",
   "execution_count": 133,
   "metadata": {},
   "outputs": [
    {
     "name": "stdout",
     "output_type": "stream",
     "text": [
      "2.23606797749979\n"
     ]
    }
   ],
   "source": []
  },
  {
   "cell_type": "markdown",
   "metadata": {},
   "source": [
    "## Simulate returns and estimate MVP"
   ]
  },
  {
   "cell_type": "code",
   "execution_count": null,
   "metadata": {},
   "outputs": [],
   "source": []
  },
  {
   "cell_type": "markdown",
   "metadata": {},
   "source": [
    "## Results"
   ]
  },
  {
   "cell_type": "code",
   "execution_count": null,
   "metadata": {
    "scrolled": false
   },
   "outputs": [],
   "source": []
  },
  {
   "cell_type": "markdown",
   "metadata": {},
   "source": [
    "For the 4x4 covariance matrix, of which 3 are hedges, the shrinkage estimation outperforms sample covariance.\n",
    "Surprisingly, the sample covariance has a lower Frobenius norm after around 30 samples (why?)..."
   ]
  }
 ],
 "metadata": {
  "kernelspec": {
   "display_name": "Python 3",
   "language": "python",
   "name": "python3"
  },
  "language_info": {
   "codemirror_mode": {
    "name": "ipython",
    "version": 3
   },
   "file_extension": ".py",
   "mimetype": "text/x-python",
   "name": "python",
   "nbconvert_exporter": "python",
   "pygments_lexer": "ipython3",
   "version": "3.7.5"
  }
 },
 "nbformat": 4,
 "nbformat_minor": 2
}

{
 "cells": [
  {
   "cell_type": "code",
   "execution_count": 26,
   "metadata": {},
   "outputs": [
    {
     "name": "stdout",
     "output_type": "stream",
     "text": [
      "0.0007116134309215205\n",
      "0.0008456267844161314\n"
     ]
    }
   ],
   "source": [
    "import numpy as np\n",
    "import scipy.stats as stats\n",
    "\n",
    "vol = np.array([0.1, 0.2, 0.3])\n",
    "rho12 = 0.4 \n",
    "rho13 = 0.5\n",
    "rho23 = 0.6\n",
    "\n",
    "def pos_def(m): return np.linalg.det(m) > 0\n",
    "\n",
    "mcorr = np.array(\n",
    "    [\n",
    "        [1,     rho12, rho13],\n",
    "        [rho12, 1,     rho23],\n",
    "        [rho13, rho23, 1]\n",
    "    ]\n",
    ")\n",
    "assert pos_def(mcorr), 'Not pos. definite.'\n",
    "mcov = np.diag(vol) @ mcorr @ np.diag(vol)\n",
    "\n",
    "\n",
    "distP = stats.multivariate_normal(cov=mcov)\n",
    "\n",
    "volQ = vol*1.1 # slightly higher implied than realized.\n",
    "\n",
    "n_cov = 100\n",
    "\n",
    "nsimP = 100\n",
    "nsimQ = 1000\n",
    "\n",
    "T = 3/12\n",
    "\n",
    "\n",
    "rstate0 = np.random.RandomState(0)\n",
    "rstate1 = np.random.RandomState(0)\n",
    "\n",
    "\n",
    "statprice = np.empty((nsimQ, 2))\n",
    "price = np.empty((nsimP, nsimQ, 2))\n",
    "for i in range(nsimP):\n",
    "    XP = distP.rvs(n_cov)\n",
    "    #mcovP_est = np.cov(X_past, rowvar=Fals, ddof=1)\n",
    "    mcorrP_est = np.corrcoef(XP, rowvar=False)\n",
    "    \n",
    "    mcovQ_est = np.diag(volQ) @ mcorrP_est @ np.diag(volQ)\n",
    "    \n",
    "    mcovQ = np.diag(volQ) @ mcorr @ np.diag(volQ)\n",
    "    \n",
    "    XQ0 = stats.multivariate_normal(cov=mcovQ)\n",
    "    XQ = stats.multivariate_normal(cov=mcovQ_est)\n",
    "    \n",
    "    for ipath in range(nsimQ):\n",
    "        ST0 = np.exp((0 - volQ**2/2)*T + volQ*np.sqrt(T)* XQ0.rvs(1, random_state=rstate0))\n",
    "        ST = np.exp((0 - volQ**2/2)*T + volQ*np.sqrt(T)* XQ.rvs(1, random_state=rstate1))\n",
    "        \n",
    "        statprice[ipath, 0] = np.max(ST0)\n",
    "        statprice[ipath, 1] = np.mean(ST0)\n",
    "        price[i, ipath, 0] = np.max(ST)\n",
    "        price[i, ipath, 1] = np.mean(ST)\n",
    "    \n",
    "\n",
    "truePrice0 = np.mean(statprice[:,0]) \n",
    "truePrice1 = np.mean(statprice[:,1]) \n",
    "estPrice0 = np.mean(price[:,:,0])\n",
    "estPrice1 = np.mean(price[:,:,1])\n",
    "print((estPrice0/truePrice0 -1 ))\n",
    "print((estPrice1/truePrice1 -1 ))\n",
    "    \n",
    "    \n"
   ]
  }
 ],
 "metadata": {
  "kernelspec": {
   "display_name": "Python 3",
   "language": "python",
   "name": "python3"
  },
  "language_info": {
   "codemirror_mode": {
    "name": "ipython",
    "version": 3
   },
   "file_extension": ".py",
   "mimetype": "text/x-python",
   "name": "python",
   "nbconvert_exporter": "python",
   "pygments_lexer": "ipython3",
   "version": "3.7.5"
  }
 },
 "nbformat": 4,
 "nbformat_minor": 2
}

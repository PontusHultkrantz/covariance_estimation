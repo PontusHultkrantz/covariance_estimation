{
 "cells": [
  {
   "cell_type": "code",
   "execution_count": 64,
   "metadata": {},
   "outputs": [
    {
     "name": "stdout",
     "output_type": "stream",
     "text": [
      "[0.47047047 0.15295295 0.12726455 1.2018504 ]\n",
      "[0.63963964 0.13603604 0.12000003 1.13363331]\n"
     ]
    },
    {
     "data": {
      "image/png": "[encoded data removed]",
      "text/plain": [
       "<Figure size 432x288 with 1 Axes>"
      ]
     },
     "metadata": {
      "needs_background": "light"
     },
     "output_type": "display_data"
    },
    {
     "name": "stdout",
     "output_type": "stream",
     "text": [
      "0.6400000000000001\n"
     ]
    }
   ],
   "source": [
    "import numpy as np\n",
    "from matplotlib import pyplot as plt\n",
    "from scipy.optimize import minimize        \n",
    "\n",
    "mu = np.array([0.1, 0.2])\n",
    "vol = np.array([0.15, 0.2])\n",
    "rho = 0.0\n",
    "corr = np.array([[1, rho], [rho, 1]])\n",
    "cov = np.diag(vol) @ corr @ np.diag(vol)\n",
    "\n",
    "def stats(w):\n",
    "    p_mu = w @ mu\n",
    "    p_vol = np.sqrt(w @ cov @ w)\n",
    "    return p_mu, p_vol\n",
    "\n",
    "\n",
    "n = 1000\n",
    "data = np.empty((n, 4))\n",
    "data[:,0] = np.linspace(0, 1, n)\n",
    "for i in range(data.shape[0]):    \n",
    "    p_mu, p_vol = stats(np.array([data[i,0], 1-data[i,0]]))\n",
    "    data[i,1] = p_mu\n",
    "    data[i,2] = p_vol\n",
    "    data[i,3] = p_mu / p_vol\n",
    "\n",
    "market = data[np.argmax(data[:,3]), :]\n",
    "mvp = data[np.argmin(data[:,2]), :]\n",
    "print(market)\n",
    "print(mvp)\n",
    "plt.plot(data[:,2], data[:,1])\n",
    "plt.scatter(market[2], market[1])\n",
    "#plt.xlim([0, np.max(vol)])\n",
    "#plt.ylim([0, np.max(mu)])\n",
    "\n",
    "plt.show()\n",
    "\n",
    "\n",
    "print(vol[1]**2/np.sum(vol**2))\n"
   ]
  }
 ],
 "metadata": {
  "kernelspec": {
   "display_name": "Python 3",
   "language": "python",
   "name": "python3"
  },
  "language_info": {
   "codemirror_mode": {
    "name": "ipython",
    "version": 3
   },
   "file_extension": ".py",
   "mimetype": "text/x-python",
   "name": "python",
   "nbconvert_exporter": "python",
   "pygments_lexer": "ipython3",
   "version": "3.7.5"
  }
 },
 "nbformat": 4,
 "nbformat_minor": 2
}

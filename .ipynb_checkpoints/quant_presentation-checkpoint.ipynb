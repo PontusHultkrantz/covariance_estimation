{
 "cells": [
  {
   "cell_type": "markdown",
   "metadata": {},
   "source": [
    "$f = x^2$"
   ]
  },
  {
   "cell_type": "code",
   "execution_count": 38,
   "metadata": {},
   "outputs": [
    {
     "data": {
      "image/png": "[encoded data removed]",
      "text/plain": [
       "<Figure size 360x180 with 1 Axes>"
      ]
     },
     "metadata": {
      "needs_background": "light"
     },
     "output_type": "display_data"
    }
   ],
   "source": [
    "import numpy as np\n",
    "from matplotlib import pyplot as plt\n",
    "#import matplotlib as mpl\n",
    "#mpl.rc('text', usetex=True)\n",
    "\n",
    "xx = np.linspace(-1, 1, 100)\n",
    "\n",
    "def rvar(x):\n",
    "    return (1-x**2)\n",
    "\n",
    "\n",
    "yvar = [rvar(x) for x in xx]\n",
    "yvol = [np.sqrt(rvar(x)) for x in xx]\n",
    "\n",
    "plt.figure(figsize=(5, 2.5))\n",
    "plt.plot(xx, yvar, color='k', label='Rel Var')\n",
    "plt.plot(xx, yvol, color='r', label='Rel Vol')\n",
    "plt.xlabel('$\\\\rho$', fontsize=15)\n",
    "plt.legend()\n",
    "plt.grid()"
   ]
  },
  {
   "cell_type": "markdown",
   "metadata": {},
   "source": [
    "#### # Background\n",
    "\n",
    "The problem, cash equity book (stocks), flow business.  oftne large volumes, which is why client trades with us. Mifid II, we cannot offload this risk immediately (then why would they trade with us), holding time around 1 day.\n",
    "Trader can indicate interest in particular assets by posting IOIs.\n",
    "\n",
    "\n",
    "Given a book/portfolio, what assets, and what weights do we use to hedge?\n",
    "picture of efficient frontier...\n",
    "    \n",
    "1. Hedging with future\n",
    "2. Hedging with stocks.\n",
    "\n",
    "$\\newcommand{\\vect}[1]{\\boldsymbol{#1}}$\n",
    "\n",
    "case of two assets\n",
    "At time $t$, you are given a portfolio $P$ of stock holdings\n",
    "\n",
    "$P(t) = \\sum_{i=1}^P {n_i S_i(t)} :=  \\sum_{i=1}^P {w_i}$\n",
    "\n",
    "which at time $t+1$ is worth\n",
    "\n",
    "$P(t+1) = \\sum_{i=1}^P {n_i S_i(t+1)} = \\sum_{i=1}^P {n_i S_i(t)(1+R_i)} = \\sum_{i=1}^P {w_i(1+R_i)}$\n",
    "\n",
    "And Pnl is\n",
    "\n",
    "$\\Delta P = \\sum_{i=1}^P {w_i}R_i = \\sum_{i=1}^P {w_i}(e^{r_i}-1) \\approx \\sum_{i=1}^P {w_i}r_i = \\vect{w}_P^T\\vect{r}_P$\n",
    "\n",
    "\n",
    "We can choose to buy a portfolio of hedges $H$ to offset movements in the portfolio\n",
    "\n",
    "$H(t) = \\sum_{i=p+1}^{p+h} {n_i S_i(t)} :=  \\sum_{i=p+1}^{p+h} {w_i}$\n",
    "\n",
    "$V(t) = P(t) + H(t) - H(t)$\n",
    "\n",
    "$V(t+1) = P(t+1) + H(t+1) - H(t)$\n",
    "\n",
    "$\\Delta V = \\Delta P + \\Delta H = \\vect{w}_P^T \\vect{r}_P + \\vect{w}_H^T \\vect{r}_H$\n",
    "\n",
    "We want $\\Delta V$ is small as possible\n",
    "\n",
    "So either we set $\\Delta V=0$ such that\n",
    "\n",
    "$\\vect{w}_P^T \\vect{r}_P = -\\vect{w}_H^T \\vect{r}_H$\n",
    "\n",
    "and solve the OLS\n",
    "\n",
    "$\\vect{w}_P^T \\vect{r}_P = -\\vect{w}_H^T \\vect{r}_H + \\alpha + \\epsilon$.\n",
    "\n",
    "Or we minimize the variance of the PnL\n",
    "\n",
    "$\\mathbb{V}[\\Delta V] = \\vect{w}_P^T \\Sigma_{PP}\\vect{w}_P + 2\\vect{w}_P^T \\Sigma_{PH}\\vect{w}_H + \\vect{w}_H^T \\Sigma_{HH}\\vect{w}_H*$\n",
    "\n",
    "With solution $\\vect{w}_H^* = -(\\Sigma_{HH})^{-1} \\Sigma_{HP} \\cdot \\vect{w}_P$\n",
    "\n",
    "and variance\n",
    "\n",
    "$\\sigma_{MVP}^2 = \\mathbb{V}[\\Delta V^*] = \\vect{w}_P^T \\left(\\Sigma_{HH} - \\Sigma_{HP}^T \\Sigma_{HH}^{-1} \\Sigma_{HP} \\right)\\vect{w}_P = \\sigma_P^2 - \\vect{w}_P^T \\Sigma_{HP}^T \\Sigma_{HH}^{-1} \\Sigma_{HP}\\vect{w}_P$\n",
    "\n",
    "and the remaining relative variance\n",
    "\n",
    "$\\frac{\\sigma_{MVP}^2}{\\sigma_{P}^2} = 1 - \\frac{\\vect{w}_P^T \\left( \\Sigma_{HP}^T \\Sigma_{HH}^{-1} \\Sigma_{HP} \\right) \\vect{w}_P}{\\sigma_P^2}$\n",
    "\n",
    "Example:\n",
    "\n",
    "#### Portfolio is one asset, one hedge $\\Delta V = w_p R_p + w_h R_h$\n",
    "\n",
    "$\\Delta V=0$ => OLS problem: $w_P R_P = \\alpha + (-w_2) R_H + \\epsilon$\n",
    "\n",
    "$w_H^* = - w_P\\frac{\\sigma_P}{\\sigma_H} \\rho$\n",
    "\n",
    "$\\frac{\\sigma^2_{MVP}}{\\sigma^2_{P}} =  1- \\rho^2$, or vol remaining $\\frac{\\sigma_{MVP}}{\\sigma_{P}} =  \\sqrt{1- \\rho^2}$\n",
    "\n",
    "\n",
    "#### General case\n",
    "\n",
    "$\\vect{w}_H^* = -(\\Sigma_{HH})^{-1} \\Sigma_{HP} \\cdot \\vect{w}_P$\n",
    "\n",
    "$\\frac{\\sigma_{MVP}^2}{\\sigma_{P}^2} = 1 - \\frac{\\vect{w}_P^T \\left( \\Sigma_{HP}^T \\Sigma_{HH}^{-1} \\Sigma_{HP} \\right) \\vect{w}_P}{\\sigma_P^2}$\n",
    "\n",
    "\n",
    "# Hedging\n",
    "## Target\n",
    "### MVP\n",
    "### PCA\n",
    "### Equal risk contr\n",
    "### other...\n",
    "\n",
    "# Shrinkage estimators\n",
    "## James-stein, (compare to Ridge)\n",
    "## Random matrix (Machenki-Patur)\n",
    "\n",
    "# Covariance\n",
    "## Dynamic estimation, Kalman etc.\n",
    "## Cleaning estimation, shrinkage, clippage etc.\n",
    "\n"
   ]
  },
  {
   "cell_type": "markdown",
   "metadata": {},
   "source": [
    "# 1 Heding Problem background\n",
    "Assume given a portfolio P, and allowed hedges, and a static cov/corr\n",
    "MVP given by ... or OLS\n",
    "## 1.2 Simulate from Cov, est cov and calc MPC... show performance of var reduction. Compare to if we knew the cov already .. ah shit crap, sucks. So issue in cov estimation. How to improve?\n",
    "\n",
    "# 2 Intro to cov estimation / cleaning\n",
    "Assume a static true cov matrix.\n",
    "## 2.1 Samples covariance, always best (MLE)?\n",
    "Best with regards to what? Measure loss in MSE, show graphs of var-bias trade-off. MSE = Var(delt) + Bias\n",
    "Actually, it might not be using MLE. Can we do better?\n",
    "## 2.2. Shrinkage estimators, admissible\n",
    "James-stein example. X ~N(theta, Sigma) which is p x p.Show simulation and p-value for MSE diff vs MLE.\n",
    "MLE admissible for p<=2, inadmissible for p>2. Show shrinkage balls + cone from website in bookmarks.\n",
    "\n",
    "So why is MLE best estimator for p<=2? What's so special about 2? In fact, is equivalent to the recurrense of random walk in p dimensions. show pic(?).\n",
    "- Charles Stein, Inadmissibility of the Usual Estimator for the Mean of a Multivariate Normal Distribution.\n",
    "- L. Brown (1971). Admissible estimators, recurrent diffusions, and insoluble boundary value problems. Ann. Math. Stat., vol. 42, no. 3, pp. 855–903.\n",
    "- R. N. Bhattacharya (1978). Criteria for recurrence and existence of invariant measures for multidimensional diffusions. Ann. Prob., vol. 6, no. 4, 541–553.\n",
    "\n",
    "Opened up research on other shrinkage estimators (i.e. Ridge L2, Lasso, Elastic Net etc etc....)\n",
    "Show Ridge solution is of same form delta_hat = 1/(1+lambda)*X_hat. Good when low SNR.\n",
    "\n",
    "## 2.3. (Random matrix theory) The problem with estimating cov/correlation matrices\n",
    "Marhecnki-Pastur. Show my results. Eigenvalues spread out. clippage, shrinkage, thresholding.\n",
    "\n",
    "## 2.4. Run MVP test using LW Wolf, Clippage, ..\n",
    "\n",
    "## 2.5. Dynamic cov/corr, \n",
    "\n",
    "MVP, PCA, ERC, etc. see paper.\n",
    "Kalman filter...\n",
    "\n"
   ]
  },
  {
   "cell_type": "markdown",
   "metadata": {},
   "source": [
    "# Estimators, best in terms of MSE"
   ]
  },
  {
   "cell_type": "code",
   "execution_count": 65,
   "metadata": {
    "scrolled": false
   },
   "outputs": [
    {
     "name": "stdout",
     "output_type": "stream",
     "text": [
      "[1.66715443 0.71416022 0.69438184]\n"
     ]
    },
    {
     "data": {
      "image/png": "[encoded data removed]",
      "text/plain": [
       "<Figure size 864x288 with 1 Axes>"
      ]
     },
     "metadata": {
      "needs_background": "light"
     },
     "output_type": "display_data"
    }
   ],
   "source": [
    "import numpy as np\n",
    "from matplotlib import pyplot as plt\n",
    "\n",
    "theta = 5\n",
    "nsamp = 5\n",
    "nsim = 1000000\n",
    "\n",
    "def MSE(est):\n",
    "    return (est - theta)**2\n",
    "\n",
    "mse = np.empty((nsim, 3))\n",
    "loc = np.empty((nsim, 3))\n",
    "for i in range(nsim):\n",
    "    X = np.random.uniform(0, theta, nsamp)\n",
    "    est1 = 2*np.mean(X)\n",
    "    est2 = (nsamp + 1)/nsamp * np.max(X)\n",
    "    est3 = (nsamp + 2)/(nsamp + 1) * np.max(X)\n",
    "    loc[i,0], loc[i,1], loc[i,2] = (est1, est2, est3)\n",
    "    mse[i,0], mse[i,1], mse[i,2] = MSE(est1), MSE(est2), MSE(est3)\n",
    "    \n",
    "est = np.mean(mse, axis=0)\n",
    "print(est)\n",
    "est3_muvar = ( nsamp*(nsamp+2)/(nsamp+1)**2*theta, 0)\n",
    "\n",
    "plt.figure(figsize=(12,4))\n",
    "plt.hist(loc[:,0], density=True, bins='auto', alpha=0.1, color='g', label='Naive')\n",
    "plt.hist(loc[:,1], density=True, bins='auto', alpha=0.2, color='k', label='MLE UB')\n",
    "plt.hist(loc[:,2], density=True, bins='auto', alpha=0.2, color='r', label='MMSE')\n",
    "plt.axvline(est3_muvar[0], color='r', label='E[MMSE]')\n",
    "plt.grid()\n",
    "plt.legend(fontsize=15)\n",
    "#plt.xlim([6, 14])\n",
    "plt.xlim([3, 7])\n",
    "plt.xlabel('$\\hat{\\\\theta}$', fontsize=15)\n",
    "plt.tick_params(labelsize=15)\n",
    "plt.show()\n",
    "\n",
    "\n"
   ]
  },
  {
   "cell_type": "code",
   "execution_count": 104,
   "metadata": {},
   "outputs": [
    {
     "name": "stdout",
     "output_type": "stream",
     "text": [
      "bias\n",
      "[-0.2006778  -0.00084725 -0.33389817]\n",
      "Var\n",
      "[0.56574904 0.7071863  0.47145754]\n",
      "MSE\n",
      "[0.36034356 0.50011319 0.33376019]\n"
     ]
    },
    {
     "data": {
      "image/png": "[encoded data removed]",
      "text/plain": [
       "<Figure size 864x288 with 1 Axes>"
      ]
     },
     "metadata": {
      "needs_background": "light"
     },
     "output_type": "display_data"
    }
   ],
   "source": [
    "\n",
    "vol = 1\n",
    "mu = 0\n",
    "\n",
    "nsamp = 5\n",
    "nsim = 1000000\n",
    "\n",
    "\n",
    "loc = np.empty(nsim)\n",
    "for i in range(nsim):\n",
    "    X = np.random.normal(mu, vol, nsamp)\n",
    "    loc[i] = np.var(X, axis=0, ddof=0) * nsamp\n",
    "\n",
    "    \n",
    "mle = loc / nsamp\n",
    "mleub = loc / (nsamp-1)\n",
    "mse = loc / (nsamp + 1)\n",
    "    \n",
    "est = np.column_stack([mle, mleub, mse])\n",
    "print('bias')\n",
    "print(np.mean(est-vol**2, axis=0))\n",
    "print('Var')\n",
    "print(np.var(est, axis=0)**0.5)\n",
    "print('MSE')\n",
    "print(np.mean((est-vol**2)**2, axis=0))\n",
    "\n",
    "\n",
    "    \n",
    "#plt.hist(est[:,0], density=True, bins='auto', alpha=0.2, color='g')\n",
    "plt.figure(figsize=(12,4))\n",
    "plt.hist(est[:,1], density=True, bins='auto', alpha=0.2, color='k', label='Unbiased')\n",
    "plt.hist(est[:,2], density=True, bins='auto', alpha=0.2, color='r', label='MMSE')\n",
    "plt.xlabel('$\\hat{\\\\sigma}^2$', fontsize=15)\n",
    "plt.tick_params(labelsize=15)\n",
    "plt.grid()\n",
    "plt.legend(fontsize=15)\n",
    "plt.xlim([0, 3])\n",
    "plt.show()"
   ]
  },
  {
   "cell_type": "code",
   "execution_count": 115,
   "metadata": {},
   "outputs": [
    {
     "name": "stdout",
     "output_type": "stream",
     "text": [
      "2.439672109116305\n",
      "2.439672109116305\n",
      "2.439672109116305\n"
     ]
    }
   ],
   "source": [
    "\n",
    "mcorr = np.array(\n",
    "    [\n",
    "        [1.00, 0.26, 0.41, 0.57],\n",
    "        [0.26, 1.00, 0.19, 0.33],\n",
    "        [0.41, 0.19, 1.00, 0.52],\n",
    "        [0.57, 0.33, 0.52, 1.00]\n",
    "    ])\n",
    "\n",
    "print((mcorr**2).sum()**0.5)\n",
    "\n",
    "print(np.trace(mcorr.T @ mcorr)**0.5)\n",
    "print( np.sum(np.linalg.eigvals(mcorr)**2)**0.5)"
   ]
  }
 ],
 "metadata": {
  "kernelspec": {
   "display_name": "Python 3.7.3 64-bit ('ProgramData': virtualenv)",
   "language": "python",
   "name": "python37364bitprogramdatavirtualenv59ae48332b0b4b33804568dd65329faa"
  },
  "language_info": {
   "codemirror_mode": {
    "name": "ipython",
    "version": 3
   },
   "file_extension": ".py",
   "mimetype": "text/x-python",
   "name": "python",
   "nbconvert_exporter": "python",
   "pygments_lexer": "ipython3",
   "version": "3.7.3"
  }
 },
 "nbformat": 4,
 "nbformat_minor": 2
}

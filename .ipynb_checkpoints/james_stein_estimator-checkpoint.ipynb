{
 "cells": [
  {
   "cell_type": "code",
   "execution_count": 77,
   "metadata": {
    "scrolled": false
   },
   "outputs": [
    {
     "name": "stdout",
     "output_type": "stream",
     "text": [
      "H0: MSE_js_est >= MSE_mle vs. H1: MSE_js_est < MSE_mle\n",
      "p-value 0.0000\n",
      "====> js likely better <====\n"
     ]
    },
    {
     "data": {
      "image/png": "[encoded data removed]",
      "text/plain": [
       "<Figure size 432x288 with 1 Axes>"
      ]
     },
     "metadata": {
      "needs_background": "light"
     },
     "output_type": "display_data"
    }
   ],
   "source": [
    "import numpy as np\n",
    "import scipy.stats as stats\n",
    "from matplotlib import pyplot as plt\n",
    "\n",
    "p = 3\n",
    "n = 10\n",
    "\n",
    "\n",
    "mcov = np.diag(1+np.arange(p))\n",
    "mcov[1,1] *= 2\n",
    "mmu = np.arange(p)*0\n",
    "\n",
    "dist = stats.multivariate_normal(mean=mmu, cov=mcov)\n",
    "\n",
    "\n",
    "def james_stein0(est, p, n, vol):\n",
    "    shrinkage = (1-(p-2)/n*vol**2 / np.linalg.norm(est, ord=2)**2)\n",
    "    shrinkage = max(shrinkage, 0)\n",
    "    return shrinkage * est\n",
    "\n",
    "def james_stein(est, n, mcov, guess=None):\n",
    "    ''' Specify guess for location other than at origin. '''\n",
    "    guess = np.zeros(mcov.shape[0]) if guess is None else guess\n",
    "    p = mcov.shape[0]\n",
    "    shrinkage = 1-(p-2)/((est-guess) @ np.linalg.inv(mcov) @ est)/n\n",
    "    shrinkage = max(shrinkage, 0)\n",
    "    return guess + shrinkage * (est - guess)\n",
    "\n",
    "def sqloss(est, target, mcov=None):\n",
    "    ''' Specify mcov for cov invariant squared loss.'''\n",
    "    mcov = np.eye(len(est)) if mcov is None else mcov\n",
    "    return (est - target) @ np.linalg.pinv(mcov) @ (est - target)\n",
    "\n",
    "nsim = 5000\n",
    "mse = np.empty(nsim)\n",
    "for i in range(nsim):\n",
    "    X = dist.rvs(n)\n",
    "    mle = np.mean(X, axis=0)\n",
    "    mcov_est = np.cov(X, rowvar=False, ddof=1)\n",
    "    js = james_stein(mle, n, mcov_est)\n",
    "    mse[i] = sqloss(js, mmu)\n",
    "    \n",
    "mse_mle = np.trace(mcov)/n\n",
    "mse_js_mu = (np.mean(mse), np.var(mse, ddof=1)/nsim )\n",
    "plt.hist(mse - mse_mle, bins='auto', density=True)\n",
    "plt.grid()\n",
    "zscore = (mse_js_mu[0] - mse_mle) / np.sqrt(mse_js_mu[1])\n",
    "pval = stats.norm.cdf(zscore)\n",
    "print('H0: MSE_js_est >= MSE_mle vs. H1: MSE_js_est < MSE_mle')\n",
    "print('p-value {:.4f}'.format(pval))\n",
    "print('====> js likely better <====') if pval < 0.05 else print('mle likely better')"
   ]
  },
  {
   "cell_type": "code",
   "execution_count": null,
   "metadata": {},
   "outputs": [],
   "source": []
  }
 ],
 "metadata": {
  "kernelspec": {
   "display_name": "Python 3",
   "language": "python",
   "name": "python3"
  },
  "language_info": {
   "codemirror_mode": {
    "name": "ipython",
    "version": 3
   },
   "file_extension": ".py",
   "mimetype": "text/x-python",
   "name": "python",
   "nbconvert_exporter": "python",
   "pygments_lexer": "ipython3",
   "version": "3.7.5"
  }
 },
 "nbformat": 4,
 "nbformat_minor": 2
}

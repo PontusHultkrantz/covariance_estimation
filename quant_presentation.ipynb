{
 "cells": [
  {
   "cell_type": "markdown",
   "metadata": {},
   "source": [
    "\n",
    "\n",
    "# Hedging\n",
    "## Target\n",
    "### MVP\n",
    "### PCA\n",
    "### Equal risk contr\n",
    "### other...\n",
    "\n",
    "# Shrinkage estimators\n",
    "## James-stein, (compare to Ridge)\n",
    "## Random matrix (Machenki-Patur)\n",
    "\n",
    "# Covariance\n",
    "## Dynamic estimation, Kalman etc.\n",
    "## Cleaning estimation, shrinkage, clippage etc.\n",
    "\n"
   ]
  },
  {
   "cell_type": "markdown",
   "metadata": {},
   "source": [
    "# 1 Heding Problem background\n",
    "Assume given a portfolio P, and allowed hedges, and a static cov/corr\n",
    "MVP given by ... or OLS\n",
    "## 1.2 Simulate from Cov, est cov and calc MPC... show performance of var reduction. Compare to if we knew the cov already .. ah shit crap, sucks. So issue in cov estimation. How to improve?\n",
    "\n",
    "# 2 Intro to cov estimation / cleaning\n",
    "Assume a static true cov matrix.\n",
    "## 2.1 Samples covariance, always best (MLE)?\n",
    "Best with regards to what? Measure loss in MSE, show graphs of var-bias trade-off. MSE = Var(delt) + Bias\n",
    "Actually, it might not be using MLE. Can we do better?\n",
    "## 2.2. Shrinkage estimators, admissible\n",
    "James-stein example. X ~N(theta, Sigma) which is p x p.Show simulation and p-value for MSE diff vs MLE.\n",
    "MLE admissible for p<=2, inadmissible for p>2. Show shrinkage balls + cone from website in bookmarks.\n",
    "\n",
    "So why is MLE best estimator for p<=2? What's so special about 2? In fact, is equivalent to the recurrense of random walk in p dimensions. show pic(?).\n",
    "- Charles Stein, Inadmissibility of the Usual Estimator for the Mean of a Multivariate Normal Distribution.\n",
    "- L. Brown (1971). Admissible estimators, recurrent diffusions, and insoluble boundary value problems. Ann. Math. Stat., vol. 42, no. 3, pp. 855–903.\n",
    "- R. N. Bhattacharya (1978). Criteria for recurrence and existence of invariant measures for multidimensional diffusions. Ann. Prob., vol. 6, no. 4, 541–553.\n",
    "\n",
    "Opened up research on other shrinkage estimators (i.e. Ridge L2, Lasso, Elastic Net etc etc....)\n",
    "Show Ridge solution is of same form delta_hat = 1/(1+lambda)*X_hat. Good when low SNR.\n",
    "\n",
    "## 2.3. (Random matrix theory) The problem with estimating cov/correlation matrices\n",
    "Marhecnki-Pastur. Show my results. Eigenvalues spread out. clippage, shrinkage, thresholding.\n",
    "\n",
    "## 2.4. Run MVP test using LW Wolf, Clippage, ..\n",
    "\n",
    "## 2.5. Dynamic cov/corr, \n",
    "\n",
    "MVP, PCA, ERC, etc. see paper.\n",
    "Kalman filter...\n",
    "\n"
   ]
  }
 ],
 "metadata": {
  "kernelspec": {
   "display_name": "Python 3",
   "language": "python",
   "name": "python3"
  },
  "language_info": {
   "codemirror_mode": {
    "name": "ipython",
    "version": 3
   },
   "file_extension": ".py",
   "mimetype": "text/x-python",
   "name": "python",
   "nbconvert_exporter": "python",
   "pygments_lexer": "ipython3",
   "version": "3.7.5"
  }
 },
 "nbformat": 4,
 "nbformat_minor": 2
}

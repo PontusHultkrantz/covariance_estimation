{
 "cells": [
  {
   "cell_type": "markdown",
   "metadata": {},
   "source": [
    "# Minimum Variance Portfolio, sample cov using MLE linear shrinkage"
   ]
  },
  {
   "cell_type": "markdown",
   "metadata": {},
   "source": [
    "Shrinkage algorithm implemented from \n",
    "    Ledoit, O., and M. Wolf, 2003, “Honey, I Shrunk the Sample Covariance Matrix,” Working\n",
    "    Paper, Department of Economics and Business, Universitat Pompeu Fabra.\n",
    "Access: https://ssrn.com/abstract=433840\n",
    "\n",
    "The performance of the shrinkage estimator is measured in MSE terms of the covariance matrix estimate, using the matrix Frobenius norm\n",
    "\n",
    "$ ||\\hat{\\Sigma}-\\Sigma||_F = \\sqrt{\\sum_{i,j} (\\hat{\\sigma}^2_{ij} - \\sigma^2_{ij})^2 }$.\n",
    " That is, the squared residual of the element-wise covariances.\n",
    " \n",
    "While the shrinkage estimator is a biased estimator, it can archive a lower MSE than the unbiased sample covariance by having a lower variance."
   ]
  },
  {
   "cell_type": "markdown",
   "metadata": {},
   "source": [
    "## Define benchmark returns statistics"
   ]
  },
  {
   "cell_type": "code",
   "execution_count": null,
   "metadata": {},
   "outputs": [],
   "source": []
  },
  {
   "cell_type": "code",
   "execution_count": null,
   "metadata": {},
   "outputs": [],
   "source": []
  },
  {
   "cell_type": "code",
   "execution_count": 85,
   "metadata": {},
   "outputs": [
    {
     "name": "stdout",
     "output_type": "stream",
     "text": [
      "ALIV SS     7.726122e+06\n",
      "NDA SS      7.756970e+06\n",
      "NHY NO      1.672482e+06\n",
      "OTE1V FH    6.495656e+06\n",
      "OUT1V FH    6.518029e+06\n",
      "SAMPO FH    8.084146e+06\n",
      "SAND SS     7.219577e+06\n",
      "SEBA SS     4.946962e+06\n",
      "TRELB SS    5.876094e+06\n",
      "YAR NO      6.269732e+06\n",
      "dtype: float64\n",
      "[0.29624964 0.28044585 0.29756731 0.99994399 0.99569521 1.        ]\n",
      "['sample', 'honey', 'MP', 'SKL_LW', 'RIE']\n",
      "[0.44953597 0.41457958 0.42955221 0.41626322 0.41165666 0.        ]\n"
     ]
    },
    {
     "data": {
      "image/png": "[encoded data removed]",
      "text/plain": [
       "<Figure size 1080x360 with 1 Axes>"
      ]
     },
     "metadata": {
      "needs_background": "light"
     },
     "output_type": "display_data"
    }
   ],
   "source": [
    "#%load_ext autoreload\n",
    "#%autoreload 2\n",
    "import numpy as np\n",
    "import scipy.stats as stats\n",
    "import pandas as pd\n",
    "from operator import add\n",
    "from matplotlib import pyplot as plt\n",
    "import honey_shrink as hs\n",
    "import marchenko_pastur as mp\n",
    "from sklearn.covariance import LedoitWolf\n",
    "\n",
    "\n",
    "from src.estimation.cov_cleaning import mp_denoise, RIE\n",
    "\n",
    "import example_data as data\n",
    "\n",
    "\n",
    "\n",
    "def mvh(idx_r, idx_h, pos, cov):\n",
    "    idx_sub = np.concatenate([idx_r, idx_h])\n",
    "    hrhh = cov[idx_h][:,idx_sub]\n",
    "    hh = cov[idx_h][:, idx_h]\n",
    "    hdg_h = -np.linalg.inv(hh) @ hrhh @ pos[idx_sub]\n",
    "    hdg = np.concatenate((np.zeros(len(idx_r)), hdg_h))\n",
    "    psi = np.zeros(cov.shape[0])\n",
    "    psi[idx_sub] = hdg\n",
    "    return psi\n",
    "\n",
    "#def var(book, cov):\n",
    "#    return book.pos @ cov.loc[book.pos.index, book.pos.index] @ book.pos\n",
    "\n",
    "def var(w, cov):\n",
    "    return w @ cov @ w\n",
    "    \n",
    "# =========================\n",
    "# ======= Load Data =======\n",
    "# =========================\n",
    "lvl_df, book = data.get_example_data()\n",
    "#book._pos = book.pos[['NDA SS']]\n",
    "print(book.pos)\n",
    "r = lvl_df.pct_change().iloc[1::]\n",
    "rr = np.log(lvl_df.shift(1)) - np.log(lvl_df)\n",
    "cov = r.cov() #ddof=N-1\n",
    "\n",
    "#hedges = ['SX5E', 'OMX']\n",
    "hedges = ['SWEDA SS', 'AMEAS FH', 'CAST SS', 'ABB SS', 'VOLVB SS', 'HUSQB SS', 'ICA SS', 'INDUC SS', 'AZN SS', 'SAS SS']\n",
    "#hedges = ['SWEDA SS', 'AMEAS FH']\n",
    "subverse = set(book.pos.index.values).union(set(hedges))\n",
    "subcov = cov.loc[subverse, subverse]\n",
    "idx_r = np.array([subcov.index.get_loc(x) for x in book.pos.index])\n",
    "idx_h = np.array([subcov.index.get_loc(x) for x in hedges])\n",
    "pos = np.zeros(subcov.shape[0])\n",
    "pos[idx_r] = book.pos.values\n",
    "hdg = mvh(idx_r, idx_h, pos, subcov.values)\n",
    "var0 = var(pos, subcov)\n",
    "var1 = var(pos+hdg, subcov)\n",
    "rat0 = np.sqrt(var1/var0)\n",
    "\n",
    "dist = stats.multivariate_normal(cov=subcov)\n",
    "nsim = 1000\n",
    "nsamples = 25\n",
    "data = np.zeros((nsim, 6))\n",
    "labels = ['sample', 'honey', 'MP', 'SKL_LW', 'RIE']\n",
    "\n",
    "true_p_var = pos[idx_r] @ subcov.values[idx_r][:,idx_r] @ pos[idx_r]\n",
    "basket_var = np.zeros((nsim, 6))\n",
    "for i in range(nsim):\n",
    "    X = dist.rvs(nsamples)\n",
    "    sample_cov = np.cov(X, rowvar=False, ddof=1)\n",
    "    \n",
    "    hdg_pos = mvh(idx_r, idx_h, pos, sample_cov)\n",
    "    var1 = (pos+hdg_pos) @ subcov @ (pos+hdg_pos)\n",
    "    data[i,0] = np.sqrt(var1/var0)\n",
    "    basket_var[i,0] = pos[idx_r] @ sample_cov[idx_r][:,idx_r] @ pos[idx_r]\n",
    "    \n",
    "    cov_est1 = hs.honey_shrink(X)\n",
    "    hdg_pos = mvh(idx_r, idx_h, pos, cov_est1)\n",
    "    var1 = (pos+hdg_pos) @ subcov @ (pos+hdg_pos)\n",
    "    data[i,1] = np.sqrt(var1/var0)\n",
    "    basket_var[i,1] = pos[idx_r] @ cov_est1[idx_r][:,idx_r] @ pos[idx_r]\n",
    "    \n",
    "    cov_est2 = mp_denoise(sample_cov, sample_cov.shape[0], nsamples)\n",
    "    hdg_pos = mvh(idx_r, idx_h, pos, cov_est2)\n",
    "    var1 = (pos+hdg_pos) @ subcov @ (pos+hdg_pos)\n",
    "    data[i,2] = np.sqrt(var1/var0)\n",
    "    basket_var[i,2] = pos[idx_r] @ cov_est2[idx_r][:,idx_r] @ pos[idx_r]\n",
    "    \n",
    "    cov_est3 =  LedoitWolf().fit(sample_cov).covariance_\n",
    "    hdg_pos = mvh(idx_r, idx_h, pos, cov_est3)\n",
    "    var1 = (pos+hdg_pos) @ subcov @ (pos+hdg_pos)\n",
    "    data[i,3] = np.sqrt(var1/var0)\n",
    "    basket_var[i,3] = pos[idx_r] @ cov_est3[idx_r][:,idx_r] @ pos[idx_r]\n",
    "    \n",
    "    cov_est4 =  RIE(sample_cov, sample_cov.shape[0], nsamples, corrmode=False)\n",
    "    hdg_pos = mvh(idx_r, idx_h, pos, cov_est4)\n",
    "    var1 = (pos+hdg_pos) @ subcov @ (pos+hdg_pos)\n",
    "    data[i,4] = np.sqrt(var1/var0)              \n",
    "    basket_var[i,4] = pos[idx_r] @ cov_est4[idx_r][:,idx_r] @ pos[idx_r]\n",
    "    \n",
    "basket_var = (basket_var/true_p_var - 1)**2\n",
    "print( np.mean(basket_var, axis=0)**0.5)\n",
    "    \n",
    "    \n",
    "est = np.mean(data, axis=0)\n",
    "print(labels)\n",
    "print(est)\n",
    "#rank = np.argmin(est)\n",
    "plt.figure(figsize=(15,5))\n",
    "#plt.hist(data[:,0], density=True, bins='auto', color='g', alpha=0.2)\n",
    "#plt.hist(data[:,1], density=True, bins='auto', color='b', alpha=0.2)\n",
    "plt.axvline(rat0, color='r', linewidth=3, label='MVP_theory')\n",
    "plt.axvline(est[0], color='g', linewidth=3, label='MVP_sample')\n",
    "plt.axvline(est[1], color='b', linewidth=3, label='MVP_LW')\n",
    "plt.axvline(est[2], color='c', linewidth=3, label='MVP_MP')\n",
    "plt.axvline(est[3], color='m', linewidth=3, label='MVP_SKL_LW')\n",
    "plt.axvline(est[4], color='k', linewidth=3, label='MVP_RIE')\n",
    "plt.axvline(est[5], color='y', linewidth=3, label='POHU')\n",
    "lim = (int(rat0*10)/10, int(1+max(est)*10)/10)\n",
    "plt.xlim([lim[0], lim[1]])\n",
    "#plt.xticks(np.arange(lim[0], lim[1], 0.05))\n",
    "plt.legend(loc='best')\n",
    "plt.grid(True)\n",
    "plt.show()\n",
    "\n"
   ]
  },
  {
   "cell_type": "markdown",
   "metadata": {},
   "source": [
    "## VS real data"
   ]
  },
  {
   "cell_type": "code",
   "execution_count": 86,
   "metadata": {},
   "outputs": [
    {
     "name": "stderr",
     "output_type": "stream",
     "text": [
      "C:\\Repositories\\GitHub\\covariance_estimation\\src\\estimation\\cov_cleaning.py:37: RuntimeWarning: divide by zero encountered in double_scalars\n",
      "  sigma2 = lambda_N / (1-q**0.5)**2\n",
      "C:\\Repositories\\GitHub\\covariance_estimation\\src\\estimation\\cov_cleaning.py:38: RuntimeWarning: divide by zero encountered in double_scalars\n",
      "  lambda_plus = lambda_N * ((1+np.sqrt(q))/(1-np.sqrt(q)))**2\n",
      "C:\\Repositories\\GitHub\\covariance_estimation\\src\\estimation\\cov_cleaning.py:39: RuntimeWarning: invalid value encountered in double_scalars\n",
      "  gmp = (z + sigma2*(q-1) - np.sqrt(z-lambda_N)*np.sqrt(z-lambda_plus)) / (2*q*z*sigma2)\n",
      "C:\\Repositories\\GitHub\\covariance_estimation\\src\\estimation\\cov_cleaning.py:39: RuntimeWarning: invalid value encountered in true_divide\n",
      "  gmp = (z + sigma2*(q-1) - np.sqrt(z-lambda_N)*np.sqrt(z-lambda_plus)) / (2*q*z*sigma2)\n",
      "C:\\Repositories\\GitHub\\covariance_estimation\\src\\estimation\\cov_cleaning.py:41: RuntimeWarning: invalid value encountered in less_equal\n",
      "  Gamma[Gamma <= 1] = 1.0\n"
     ]
    },
    {
     "name": "stdout",
     "output_type": "stream",
     "text": [
      "[1.         0.59491059 0.50596662 0.53786552 0.52424043        nan]\n"
     ]
    }
   ],
   "source": [
    "\n",
    "data = np.empty((nsim, 5))\n",
    "labels = ['sample', 'honey', 'MP', 'SKL_LW', 'RIE']\n",
    "\n",
    "\n",
    "sublvl = lvl_df[subverse]\n",
    "sublvl = sublvl.iloc[0:120]\n",
    "R = sublvl.pct_change()\n",
    "r = np.log(sublvl.shift(1)) - np.log(sublvl)\n",
    "\n",
    "\n",
    "pnl = np.zeros((sublvl.shape[0], 6))\n",
    "burn_in = 20\n",
    "for i in range(burn_in, sublvl.shape[0]):\n",
    "    \n",
    "    S_ = sublvl.iloc[0:i]\n",
    "    R_ = R.iloc[1:i]\n",
    "    r_ = r.iloc[1:i]\n",
    "    ret_ = r_\n",
    "    \n",
    "    nsamples = ret_.shape[0]\n",
    "    \n",
    "    sample_cov = np.cov(ret_.values, rowvar=False, ddof=1)\n",
    "    pnl[i, 0] = (pos) @ R.iloc[i].values\n",
    "    \n",
    "    hdg_pos = mvh(idx_r, idx_h, pos, sample_cov)\n",
    "    pnl[i, 1] = (pos+hdg_pos) @ R.iloc[i].values\n",
    "    \n",
    "    \n",
    "    cov_est1 = hs.honey_shrink(ret_.values)\n",
    "    hdg_pos = mvh(idx_r, idx_h, pos, cov_est1)\n",
    "    pnl[i, 2] = (pos+hdg_pos) @ R.iloc[i].values\n",
    "    \n",
    "    cov_est2 = mp_denoise(sample_cov, sample_cov.shape[0], nsamples)\n",
    "    hdg_pos = mvh(idx_r, idx_h, pos, cov_est2)\n",
    "    pnl[i, 3] = (pos+hdg_pos) @ R.iloc[i].values\n",
    "    \n",
    "    cov_est3 =  LedoitWolf().fit(sample_cov).covariance_\n",
    "    hdg_pos = mvh(idx_r, idx_h, pos, cov_est3)\n",
    "    pnl[i, 4] = (pos+hdg_pos) @ R.iloc[i].values\n",
    "    \n",
    "    cov_est4 =  RIE(sample_cov, sample_cov.shape[0], nsamples, corrmode=False)\n",
    "    hdg_pos = mvh(idx_r, idx_h, pos, cov_est4)\n",
    "    pnl[i, 5] = (pos+hdg_pos) @ R.iloc[i].values\n",
    "               \n",
    "pnl = pnl[burn_in::]\n",
    "#print(np.std(pnl[-50::], axis=0, ddof=1)/np.std(pnl[-50::,0], axis=0, ddof=1))\n",
    "print(np.std(pnl, axis=0, ddof=1)/np.std(pnl[:,0], axis=0, ddof=1))\n",
    "#print(np.mean(pnl[burn_in::]**2, axis=0)/np.mean(pnl[burn_in::,0]**2, axis=0))"
   ]
  },
  {
   "cell_type": "markdown",
   "metadata": {},
   "source": []
  },
  {
   "cell_type": "code",
   "execution_count": null,
   "metadata": {},
   "outputs": [],
   "source": []
  },
  {
   "cell_type": "markdown",
   "metadata": {},
   "source": []
  },
  {
   "cell_type": "code",
   "execution_count": null,
   "metadata": {
    "scrolled": false
   },
   "outputs": [],
   "source": []
  },
  {
   "cell_type": "markdown",
   "metadata": {},
   "source": []
  }
 ],
 "metadata": {
  "kernelspec": {
   "display_name": "Python 3.7.3 64-bit ('ProgramData': virtualenv)",
   "language": "python",
   "name": "python37364bitprogramdatavirtualenv59ae48332b0b4b33804568dd65329faa"
  },
  "language_info": {
   "codemirror_mode": {
    "name": "ipython",
    "version": 3
   },
   "file_extension": ".py",
   "mimetype": "text/x-python",
   "name": "python",
   "nbconvert_exporter": "python",
   "pygments_lexer": "ipython3",
   "version": "3.7.3"
  }
 },
 "nbformat": 4,
 "nbformat_minor": 2
}

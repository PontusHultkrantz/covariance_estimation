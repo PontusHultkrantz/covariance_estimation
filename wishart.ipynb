{
 "cells": [
  {
   "cell_type": "markdown",
   "metadata": {},
   "source": [
    "# Simulate Random Covariance Matrices\n",
    "Draw observations from multivariate normal, then calculate samples covariance\n",
    "equivalent to draw cov irectly from Wishart."
   ]
  },
  {
   "cell_type": "code",
   "execution_count": 7,
   "metadata": {},
   "outputs": [
    {
     "name": "stdout",
     "output_type": "stream",
     "text": [
      "Sample corr dist 0.495 and 0.0120\n",
      "Wishart corr dist 0.496 and 0.0120\n"
     ]
    }
   ],
   "source": [
    "#%load_ext autoreload\n",
    "#%autoreload 2\n",
    "import numpy as np\n",
    "import scipy.stats as stats\n",
    "from matplotlib import pyplot as plt\n",
    "\n",
    "mmu = np.array([2, 1])\n",
    "mcorr = np.array(\n",
    "    [\n",
    "        [1.00, 0.50],\n",
    "        [0.50, 1.00]\n",
    "    ])\n",
    "\n",
    "vol = np.array([1, 2])\n",
    "mcov = np.diag(vol) @ mcorr @ np.diag(vol)\n",
    "\n",
    "samplesize = 50\n",
    "\n",
    "ddof = samplesize-1 # est mean\n",
    "\n",
    "obs_gen = stats.multivariate_normal(cov=mcov, mean=mmu)\n",
    "wd = stats.wishart(scale=mcov, df=ddof)\n",
    "\n",
    "nsim = 10000\n",
    "data = np.zeros((nsim, 2))\n",
    "for i in range(nsim):\n",
    "    X = obs_gen.rvs(samplesize)\n",
    "    mean_est = np.mean(X, axis=0)\n",
    "    cov_est = ((X-mean_est).T @ (X-mean_est)) / ddof #np.cov(X, rowvar=False, ddof=1)\n",
    "    data[i, 0] = cov_est[0,1] / np.sqrt(cov_est[0,0] * cov_est[1,1])\n",
    "    \n",
    "    wd_X = wd.rvs(1) / ddof\n",
    "    data[i, 1] = wd_X[0,1] / np.sqrt(wd_X[0,0] * wd_X[1,1])\n",
    "\n",
    "    \n",
    "mu = np.mean(data, axis=0)\n",
    "sigma = np.var(data, axis=0, ddof=1)\n",
    "print('Sample corr dist {:.3f} and {:.4f}'.format(mu[0], sigma[0]))\n",
    "print('Wishart corr dist {:.3f} and {:.4f}'.format(mu[1], sigma[1]))\n",
    "\n"
   ]
  }
 ],
 "metadata": {
  "kernelspec": {
   "display_name": "Python 3.7.3 64-bit ('ProgramData': virtualenv)",
   "language": "python",
   "name": "python37364bitprogramdatavirtualenv59ae48332b0b4b33804568dd65329faa"
  },
  "language_info": {
   "codemirror_mode": {
    "name": "ipython",
    "version": 3
   },
   "file_extension": ".py",
   "mimetype": "text/x-python",
   "name": "python",
   "nbconvert_exporter": "python",
   "pygments_lexer": "ipython3",
   "version": "3.7.3"
  }
 },
 "nbformat": 4,
 "nbformat_minor": 2
}
